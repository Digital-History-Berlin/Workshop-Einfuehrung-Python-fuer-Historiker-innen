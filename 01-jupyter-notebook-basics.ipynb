{
 "cells": [
  {
   "cell_type": "markdown",
   "metadata": {},
   "source": [
    "# Shortcuts für Jupyter Notebooks\n",
    "\n",
    "Grundsätzlich: Notebook-Zellen werden mit `STRG + Enter` ausgeführt.\n",
    "\n",
    "Oder über den 'Play-Button' in der oberen Menu-Leiste."
   ]
  },
  {
   "cell_type": "markdown",
   "metadata": {},
   "source": [
    "| Windows        | Mac           |\n",
    "| ------------- |:-------------: | \n",
    "| `Ctrl`        | command key ⌘ |\n",
    "| `Shift`       | Shift ⇧        | \n",
    "| `Alt`         | option ⌥      | "
   ]
  },
  {
   "cell_type": "markdown",
   "metadata": {},
   "source": [
    "## Modes\n",
    "\n",
    "Edit Mode\n",
    "* arbeitet in den Zellen\n",
    "* wird mit Enter aktiviert\n",
    "\n",
    "Command Mode\n",
    "* arbeitet außerhalb der Zellen\n",
    "* wird mit Esc aktiviert"
   ]
  },
  {
   "cell_type": "markdown",
   "metadata": {},
   "source": [
    "## Shortcuts Command Mode\n",
    "\n",
    "`Enter`\n",
    "* Wechsel in den Edit Mode\n",
    "\n",
    "`Up`\n",
    "* Auswahl der darüberliegenden Zelle\n",
    "\n",
    "`Down`\n",
    "* Auswahl der darunterliegenden Zelle\n",
    "\n",
    "`Shift + Up`\n",
    "* Erweiterung der Zellenauswahl nach oben\n",
    "\n",
    "`Shift + Down`\n",
    "* Erweiterung der Zellenauswahl nach unten\n",
    "\n",
    "`A` \n",
    "* Zelle über der Zelle einfügen\n",
    "\n",
    "`B`\n",
    "* Zelle unter der Zelle einfügen\n",
    "\n",
    "`X`\n",
    "* Ausschneiden der ausgewählten Zelle\n",
    "\n",
    "`C`\n",
    "* Kopieren der ausgewählten Zelle\n",
    "\n",
    "`V`\n",
    "* Einfügen der ausgewählten Zelle\n",
    "\n",
    "`D, D`\n",
    "* Löschen der ausgewählten Zelle\n",
    "\n",
    "`Z`\n",
    "* Rückgängig Löschung der Zelle\n",
    "\n",
    "`Y`\n",
    "* Wechsel des Zellentyps auf Code\n",
    "\n",
    "`M`\n",
    "* Wechsel des Zellentyps auf Markdown\n"
   ]
  },
  {
   "cell_type": "markdown",
   "metadata": {},
   "source": [
    "## Shortcuts Edit Mode\n",
    "\n",
    "`Esc`\n",
    "* Wechsel in den Command Mode\n",
    "\n",
    "`Tab`\n",
    "* Autovervollständigung oder Einrückung\n",
    "\n",
    "`Shift + Tab`\n",
    "* Einblenden der Doc-Hilfe\n",
    "\n",
    "`Ctrl + A`\n",
    "* Alles in der Zelle auswählen\n",
    "\n",
    "`Ctrl + Z`\n",
    "* Operation in der Zelle rückgängig machen\n",
    "\n",
    "`Ctrl + /`\n",
    "* mehrere Zeilen auskommentieren"
   ]
  },
  {
   "cell_type": "markdown",
   "metadata": {},
   "source": []
  }
 ],
 "metadata": {
  "kernelspec": {
   "display_name": "Python 3 (ipykernel)",
   "language": "python",
   "name": "python3"
  },
  "language_info": {
   "codemirror_mode": {
    "name": "ipython",
    "version": 3
   },
   "file_extension": ".py",
   "mimetype": "text/x-python",
   "name": "python",
   "nbconvert_exporter": "python",
   "pygments_lexer": "ipython3",
   "version": "3.8.13"
  }
 },
 "nbformat": 4,
 "nbformat_minor": 4
}
