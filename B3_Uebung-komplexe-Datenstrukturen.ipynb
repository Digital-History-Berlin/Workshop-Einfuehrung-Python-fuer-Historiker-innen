{
 "cells": [
  {
   "cell_type": "markdown",
   "metadata": {},
   "source": [
    "# Übungen Komplexe Datenstrukturen"
   ]
  },
  {
   "cell_type": "markdown",
   "metadata": {},
   "source": [
    "## Aufgabe 1:\n",
    "\n",
    "Erstellen Sie eine Liste, die als Elemente einen String, zwei Integer, drei floats und eine Liste mit vier Integer enthält.\n",
    "\n",
    "Geben Sie die Anzahl der Elemente der Liste aus.\n",
    "\n",
    "Geben Sie den dritten Wert der Liste aus, die in der Liste enthalten ist."
   ]
  },
  {
   "cell_type": "code",
   "execution_count": 6,
   "metadata": {},
   "outputs": [],
   "source": []
  },
  {
   "cell_type": "markdown",
   "metadata": {},
   "source": [
    "## Aufgabe 2:\n",
    "\n",
    "Erstellen Sie mit Hilfe eines Dictionaries einen Obstkorb, der in Schlüssel-Wert-Paaren darüber Auskunft gibt, dass in dem Obstkorb fünf Äpfel, drei Kiwis und sieben Bananen enthalten sind.\n",
    "\n",
    "Geben Sie die Anzahl der Bananen aus.\n",
    "\n",
    "Ergänzen Sie noch eine Frucht Ihrer Wahl."
   ]
  },
  {
   "cell_type": "code",
   "execution_count": 16,
   "metadata": {},
   "outputs": [],
   "source": []
  },
  {
   "cell_type": "markdown",
   "metadata": {},
   "source": [
    "## Aufgabe 3:\n",
    "\n",
    "Fügen Sie der Liste, die Sie in Aufgabe 1 definiert haben, eine weitere Liste mit vier Integer hinzu.\n",
    "\n",
    "Erstellen Sie aus der Liste ein set und geben dieses aus.\n",
    "\n",
    "Entfernen Sie die beiden Listen, die in der Liste enthalten sind, und erstellen erneut ein set."
   ]
  },
  {
   "cell_type": "code",
   "execution_count": null,
   "metadata": {},
   "outputs": [],
   "source": []
  }
 ],
 "metadata": {
  "kernelspec": {
   "display_name": "Python 3.9.7",
   "language": "python",
   "name": "python3"
  },
  "language_info": {
   "codemirror_mode": {
    "name": "ipython",
    "version": 3
   },
   "file_extension": ".py",
   "mimetype": "text/x-python",
   "name": "python",
   "nbconvert_exporter": "python",
   "pygments_lexer": "ipython3",
   "version": "3.9.7"
  },
  "orig_nbformat": 4,
  "vscode": {
   "interpreter": {
    "hash": "4cab2e3c59f82d31ef33573b56569893ba7388f3e17b6676d60d91498ea89ea5"
   }
  }
 },
 "nbformat": 4,
 "nbformat_minor": 2
}
