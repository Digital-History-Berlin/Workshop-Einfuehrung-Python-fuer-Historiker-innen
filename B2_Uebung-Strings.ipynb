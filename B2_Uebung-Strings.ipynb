{
 "cells": [
  {
   "cell_type": "markdown",
   "metadata": {
    "id": "mFGgv590_VDX"
   },
   "source": [
    "# Übungen zu Strings"
   ]
  },
  {
   "cell_type": "markdown",
   "metadata": {
    "id": "G4abBvMq_VDZ"
   },
   "source": [
    "## Aufgabe 1:\n",
    "\n",
    "Erstellen Sie einen String und weisen diesen einer Variablen zu. Der String sollte eine Länge zwischen 50 und 75 Zeichen inkl. Whitespaces umfassen. Prüfen Sie die Länge des Strings.\n",
    "\n",
    "Geben Sie den String kleingeschrieben aus.\n",
    "\n",
    "Prüfen Sie, ob der String mit dem Substring 'Hallo' beginnt oder endet.\n",
    "\n",
    "Zählen Sie alle 'a' in dem String.\n",
    "\n",
    "Ersetzen Sie die ersten fünf Zeichen des Strings durch den String 'Moin'.\n"
   ]
  },
  {
   "cell_type": "code",
   "execution_count": null,
   "metadata": {
    "id": "TcaSGB_t_VDb"
   },
   "outputs": [],
   "source": []
  },
  {
   "cell_type": "markdown",
   "metadata": {
    "id": "L6cCC7Ir_VDc"
   },
   "source": [
    "## Aufgabe 2:\n",
    "\n",
    "Erstellen Sie zwei Strings, die ein Wort darstellen, und weisen Sie diese Strings je einer Variablen zu.\n",
    "\n",
    "Konkatenieren Sie die beiden Variablen und geben Sie das Ergebnis aus. \n",
    "\n",
    "Geben Sie beide Strings fünfmal hintereinander aus.\n",
    "\n",
    "Bilden Sie einen Satz und nutzen Sie f-Strings, um die beiden Strings aus den Variablen einzufügen."
   ]
  },
  {
   "cell_type": "code",
   "execution_count": null,
   "metadata": {
    "id": "R6ccRRGs_VDd"
   },
   "outputs": [],
   "source": []
  },
  {
   "cell_type": "markdown",
   "metadata": {
    "id": "qIeBg0gf_VDe"
   },
   "source": [
    "## Aufgabe 3:\n",
    "\n",
    "Erstellen Sie einen String und weisen diesen einer Variablen zu. Der String sollte ein Satz bilden und eine Länge zwischen 50 und 75 Zeichen inkl. Whitespaces umfassen.\n",
    "\n",
    "Geben Sie die Zeichen an der Indexposition 25 und an der Position 50 aus.\n",
    "\n",
    "Geben Sie die Zeichen zwischen der Indexposition 30 und 38 aus.\n",
    "\n",
    "Geben Sie die letzten 10 Zeichen aus.\n",
    "\n",
    "Geben Sie alle Zeichen nach der Indexposition 13 aus.\n",
    "\n",
    "Geben Sie jedes zweite Zeichen aus.\n",
    "\n",
    "Geben Sie den Satz in umgekehrter Reihenfolge aus.\n",
    "\n",
    "Teilen Sie den String an den Leerzeichen auf und speichern die Rückgabe in einer Variable. Prüfen Sie den Typ dieser Variablen. Dann geben Sie von dem vierten Wort des Satzes die letzen beiden Zeichen aus. "
   ]
  },
  {
   "cell_type": "code",
   "execution_count": null,
   "metadata": {
    "id": "FCX88pXY_VDe"
   },
   "outputs": [],
   "source": []
  }
 ],
 "metadata": {
  "colab": {
   "provenance": []
  },
  "kernelspec": {
   "display_name": "Python 3 (ipykernel)",
   "language": "python",
   "name": "python3"
  },
  "language_info": {
   "codemirror_mode": {
    "name": "ipython",
    "version": 3
   },
   "file_extension": ".py",
   "mimetype": "text/x-python",
   "name": "python",
   "nbconvert_exporter": "python",
   "pygments_lexer": "ipython3",
   "version": "3.8.13"
  },
  "vscode": {
   "interpreter": {
    "hash": "0ff47b9ca6405c2db25e0c8590a4a87a312ef3bde027bbebcfe2b7cbb2bae6fc"
   }
  }
 },
 "nbformat": 4,
 "nbformat_minor": 4
}
