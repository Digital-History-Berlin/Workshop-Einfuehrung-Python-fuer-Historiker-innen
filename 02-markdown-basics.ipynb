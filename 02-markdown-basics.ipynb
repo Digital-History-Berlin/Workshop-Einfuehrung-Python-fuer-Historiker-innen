{
 "cells": [
  {
   "cell_type": "markdown",
   "metadata": {},
   "source": [
    "# Markdown Basics für Jupyter Notebooks "
   ]
  },
  {
   "cell_type": "markdown",
   "metadata": {},
   "source": [
    "Um eine Markdown-Zelle zu aktivieren:\n",
    "\n",
    "Im Editor Modus Zelle auswählen und  => `M` drücken\n",
    "\n",
    "Oder in Menuleiste `Markdown` auswählen\n",
    "\n",
    "Um den Markdown-Code in gerendertes Markdown umzuwandeln, die Zelle mit `STRG + Enter` ausführen.\n",
    "\n",
    "Die Syntax des folgenden Markdown kann durch Auswahl der Zelle mit Doppelklick eingesehen werden."
   ]
  },
  {
   "cell_type": "markdown",
   "metadata": {},
   "source": [
    "# Header 1 \n",
    "\n",
    "## Header 2\n",
    "\n",
    "### Header 3\n",
    "\n",
    "#### Header 4\n"
   ]
  },
  {
   "cell_type": "markdown",
   "metadata": {},
   "source": [
    "\n",
    "Normaler Text\n",
    "\n",
    "*kursiver Text*\n",
    "\n",
    "**fetter Text**\n"
   ]
  },
  {
   "cell_type": "markdown",
   "metadata": {},
   "source": [
    "\n",
    "`Schrift als Code`\n",
    "\n",
    "```Python\n",
    "def function_name(a, b):\n",
    "\n",
    "  x = a + b\n",
    "\n",
    "  return x\n",
    "```"
   ]
  },
  {
   "cell_type": "markdown",
   "metadata": {},
   "source": [
    "\n",
    "\n",
    "* Liste\n",
    "* Liste\n",
    "* Liste\n",
    "  * Unterliste\n",
    "  * Unterliste\n",
    "\n",
    "1. nummerierte Liste\n",
    "2. nummerierte Liste\n",
    "3. nummerierte Liste\n"
   ]
  },
  {
   "cell_type": "markdown",
   "metadata": {},
   "source": [
    "\n",
    "> eingerücktes Zitat\n"
   ]
  },
  {
   "cell_type": "markdown",
   "metadata": {},
   "source": [
    "[Markdown Project](https://daringfireball.net/projects/markdown/basics)\n",
    "\n",
    "[Sustainable Authorship in Plain Text using Pandoc and Markdown](https://programminghistorian.org/en/lessons/sustainable-authorship-in-plain-text-using-pandoc-and-markdown)\n",
    "\n",
    "[Markdown im Jupyter Project](https://jupyter-notebook.readthedocs.io/en/stable/examples/Notebook/Working%20With%20Markdown%20Cells.html)"
   ]
  }
 ],
 "metadata": {
  "kernelspec": {
   "display_name": "Python 3 (ipykernel)",
   "language": "python",
   "name": "python3"
  },
  "language_info": {
   "codemirror_mode": {
    "name": "ipython",
    "version": 3
   },
   "file_extension": ".py",
   "mimetype": "text/x-python",
   "name": "python",
   "nbconvert_exporter": "python",
   "pygments_lexer": "ipython3",
   "version": "3.8.13"
  },
  "vscode": {
   "interpreter": {
    "hash": "0ff47b9ca6405c2db25e0c8590a4a87a312ef3bde027bbebcfe2b7cbb2bae6fc"
   }
  }
 },
 "nbformat": 4,
 "nbformat_minor": 4
}
