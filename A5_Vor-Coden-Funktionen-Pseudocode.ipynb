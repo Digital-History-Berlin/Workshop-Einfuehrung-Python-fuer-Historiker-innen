{
 "cells": [
  {
   "cell_type": "markdown",
   "metadata": {},
   "source": [
    "# Funktionen und Pseudocode"
   ]
  },
  {
   "cell_type": "markdown",
   "metadata": {},
   "source": [
    "## Pseudocode"
   ]
  },
  {
   "cell_type": "code",
   "execution_count": null,
   "metadata": {},
   "outputs": [],
   "source": [
    "text = 'Mein Name ist Martin.'\n",
    "\n",
    "vowels = []\n",
    "\n",
    "for char in text:\n",
    "    if char in 'aeiou':\n",
    "        vowels.append(char)\n",
    "\n",
    "print(vowels)\n",
    "print(len(vowels))"
   ]
  },
  {
   "cell_type": "markdown",
   "metadata": {},
   "source": [
    "TEXT =  \"text\"\n",
    "\n",
    "CREATE EMPTY LIST\n",
    "\n",
    "LOOP OVER TEXT\n",
    "\n",
    "    IF ELEMENT IS VOWEL\n",
    "\n",
    "        APPEND ELEMENT TO LIST\n",
    "\n",
    "PRINT LENGTH OF LIST"
   ]
  },
  {
   "cell_type": "markdown",
   "metadata": {},
   "source": [
    "## Funktionen"
   ]
  },
  {
   "cell_type": "code",
   "execution_count": 26,
   "metadata": {},
   "outputs": [],
   "source": [
    "def make_square(number):                            # Funktionskopf und Argument\n",
    "                                                    # eingerückter Funktionskörper\n",
    "    '''Function to calculate square of a number'''  # Doc-String\n",
    "\n",
    "    output = number**2                               \n",
    "\n",
    "    return output                                   # Rückgabe"
   ]
  },
  {
   "cell_type": "code",
   "execution_count": 27,
   "metadata": {},
   "outputs": [
    {
     "data": {
      "text/plain": [
       "25"
      ]
     },
     "execution_count": 27,
     "metadata": {},
     "output_type": "execute_result"
    }
   ],
   "source": [
    "make_square(5)                          # Funktionsaufruf"
   ]
  },
  {
   "cell_type": "code",
   "execution_count": 12,
   "metadata": {},
   "outputs": [],
   "source": [
    "text = '''Lorem ipsum dolor sit amet, consetetur sadipscing elitr, \n",
    "            sed diam nonumy eirmod tempor invidunt ut labore et dolore magna aliquyam erat, \n",
    "            sed diam voluptua. At vero eos et accusam et justo duo dolores et ea rebum. \n",
    "            Stet clita kasd gubergren, no sea takimata sanctus est Lorem ipsum dolor sit amet. \n",
    "            Lorem ipsum dolor sit amet, consetetur sadipscing elitr, sed diam nonumy eirmod tempor \n",
    "            invidunt ut labore et dolore magna aliquyam erat, sed diam voluptua. At vero eos et \n",
    "            accusam et justo duo dolores et ea rebum. Stet clita kasd gubergren, no sea takimata sanctus \n",
    "            est Lorem ipsum dolor sit amet.'''"
   ]
  },
  {
   "cell_type": "code",
   "execution_count": 13,
   "metadata": {},
   "outputs": [],
   "source": [
    "def count_word_length(text):\n",
    "\n",
    "    word_list = []\n",
    "\n",
    "    text = text.split()\n",
    "    for word in text:\n",
    "        if len(word) == 5:\n",
    "            word_list.append(word)\n",
    "\n",
    "    return len(word_list)"
   ]
  },
  {
   "cell_type": "code",
   "execution_count": 22,
   "metadata": {},
   "outputs": [
    {
     "data": {
      "text/plain": [
       "24"
      ]
     },
     "execution_count": 22,
     "metadata": {},
     "output_type": "execute_result"
    }
   ],
   "source": [
    "count_word_length(text)     "
   ]
  },
  {
   "cell_type": "code",
   "execution_count": 19,
   "metadata": {},
   "outputs": [],
   "source": [
    "def count_word_length(text, nr_of_chars=5):\n",
    "\n",
    "    word_list = []\n",
    "\n",
    "    text = text.split()\n",
    "    for word in text:\n",
    "        if len(word) == nr_of_chars:\n",
    "            word_list.append(word)\n",
    "\n",
    "    return len(word_list)"
   ]
  },
  {
   "cell_type": "code",
   "execution_count": 21,
   "metadata": {},
   "outputs": [
    {
     "data": {
      "text/plain": [
       "14"
      ]
     },
     "execution_count": 21,
     "metadata": {},
     "output_type": "execute_result"
    }
   ],
   "source": [
    "count_word_length(text, nr_of_chars=6)"
   ]
  },
  {
   "cell_type": "code",
   "execution_count": 31,
   "metadata": {},
   "outputs": [],
   "source": [
    "def count_absolute_frequency(text):\n",
    "    '''The function returns a dictionary object containing the absolute frequency for\n",
    "    each unique token in a given text.\n",
    "    \n",
    "    Args: string\n",
    "    Returns: dictionary with frequencies\n",
    "    \n",
    "    '''\n",
    "\n",
    "    tokenized_text = text.split()\n",
    "\n",
    "    # initialize empty dictionary\n",
    "    frequencies = {}\n",
    "\n",
    "    # compute absolute frequency\n",
    "    for token in tokenized_text:\n",
    "        if token in frequencies:\n",
    "            frequencies[token] = frequencies[token] + 1\n",
    "        else:\n",
    "            frequencies[token] = 1  \n",
    "\n",
    "    return frequencies"
   ]
  },
  {
   "cell_type": "code",
   "execution_count": 33,
   "metadata": {},
   "outputs": [
    {
     "data": {
      "text/plain": [
       "{'Lorem': 4,\n",
       " 'ipsum': 4,\n",
       " 'dolor': 4,\n",
       " 'sit': 4,\n",
       " 'amet,': 2,\n",
       " 'consetetur': 2,\n",
       " 'sadipscing': 2,\n",
       " 'elitr,': 2,\n",
       " 'sed': 4,\n",
       " 'diam': 4,\n",
       " 'nonumy': 2,\n",
       " 'eirmod': 2,\n",
       " 'tempor': 2,\n",
       " 'invidunt': 2,\n",
       " 'ut': 2,\n",
       " 'labore': 2,\n",
       " 'et': 8,\n",
       " 'dolore': 2,\n",
       " 'magna': 2,\n",
       " 'aliquyam': 2,\n",
       " 'erat,': 2,\n",
       " 'voluptua.': 2,\n",
       " 'At': 2,\n",
       " 'vero': 2,\n",
       " 'eos': 2,\n",
       " 'accusam': 2,\n",
       " 'justo': 2,\n",
       " 'duo': 2,\n",
       " 'dolores': 2,\n",
       " 'ea': 2,\n",
       " 'rebum.': 2,\n",
       " 'Stet': 2,\n",
       " 'clita': 2,\n",
       " 'kasd': 2,\n",
       " 'gubergren,': 2,\n",
       " 'no': 2,\n",
       " 'sea': 2,\n",
       " 'takimata': 2,\n",
       " 'sanctus': 2,\n",
       " 'est': 2,\n",
       " 'amet.': 2}"
      ]
     },
     "execution_count": 33,
     "metadata": {},
     "output_type": "execute_result"
    }
   ],
   "source": [
    "count_absolute_frequency(text)"
   ]
  },
  {
   "cell_type": "code",
   "execution_count": null,
   "metadata": {},
   "outputs": [],
   "source": []
  }
 ],
 "metadata": {
  "kernelspec": {
   "display_name": "Python 3.9.7 ('base')",
   "language": "python",
   "name": "python3"
  },
  "language_info": {
   "codemirror_mode": {
    "name": "ipython",
    "version": 3
   },
   "file_extension": ".py",
   "mimetype": "text/x-python",
   "name": "python",
   "nbconvert_exporter": "python",
   "pygments_lexer": "ipython3",
   "version": "3.9.7"
  },
  "orig_nbformat": 4,
  "vscode": {
   "interpreter": {
    "hash": "4cab2e3c59f82d31ef33573b56569893ba7388f3e17b6676d60d91498ea89ea5"
   }
  }
 },
 "nbformat": 4,
 "nbformat_minor": 2
}
