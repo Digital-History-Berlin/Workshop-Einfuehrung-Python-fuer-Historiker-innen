{
 "cells": [
  {
   "cell_type": "markdown",
   "metadata": {
    "id": "XUWOpKQn_KNW"
   },
   "source": [
    "# Übungen zu den numerischen Datentypen"
   ]
  },
  {
   "cell_type": "markdown",
   "metadata": {
    "id": "kMQfgt14_KNY"
   },
   "source": [
    "## Aufgabe 1:\n",
    "\n",
    "Erstellen Sie zwei Variablen. Nutzen Sie sprechende Variablennamen.\n",
    "\n",
    "Die erste Variable hat Ihren Vornamen als Wert vom Datentyp String. Die zweite Variable hat Ihren Nachnamen als Wert, der vom Datentyp String ist.\n",
    "\n",
    "Geben Sie Vornamen und Nachnamem mit dem `print()`-Befehl aus.\n",
    "\n",
    "Checken Sie den Datentyp mit `type()`."
   ]
  },
  {
   "cell_type": "code",
   "execution_count": null,
   "metadata": {
    "id": "wwoYJ-AZ_KNZ"
   },
   "outputs": [],
   "source": []
  },
  {
   "cell_type": "markdown",
   "metadata": {
    "id": "E920vY0H_KNa"
   },
   "source": [
    "## Aufgabe 2:\n",
    "\n",
    "Erstellen Sie drei Variablen und weisen diesen Integer-Werte zu. Nutzen Sie die Variablen, um verschiedene arithmetische Operationen durchzuführen:\n",
    "* Addition\n",
    "* Substraktion\n",
    "* Multiplikation\n",
    "* Division\n",
    "* Exponenten\n",
    "* Modulus-Operator\n",
    "* Floor-Division\n",
    "\n",
    "Beschreiben Sie mit Kommentaren in den Zellen, was bei den arithmetischen Operationen geschieht.\n",
    "\n",
    "Checken Sie auch hier die Datentypen der zurückgegebenen Werte."
   ]
  },
  {
   "cell_type": "code",
   "execution_count": null,
   "metadata": {
    "id": "-9wz4KXA_KNa"
   },
   "outputs": [],
   "source": []
  },
  {
   "cell_type": "markdown",
   "metadata": {
    "id": "kVGzs25P_KNb"
   },
   "source": [
    "## Aufgabe 3:\n",
    "\n",
    "Erstellen Sie je eine Variable der Datentypen `int`, `float`, `str`. \n",
    "\n",
    "Wandeln Sie:\n",
    "* `int` in  `float` um\n",
    "* `float` in  `str` um\n",
    "* `str` in `int` um\n",
    "\n",
    "Führen Sie arithmetische Operationen durch die \n",
    "* ohne Fehlermeldung durchlaufen\n",
    "* die eine Fehlermeldung werfen\n",
    "\n",
    "Checken Sie auch hier die Datentypen der zurückgegebenen Werte."
   ]
  },
  {
   "cell_type": "code",
   "execution_count": null,
   "metadata": {
    "id": "tjoNTo2__KNc"
   },
   "outputs": [],
   "source": []
  }
 ],
 "metadata": {
  "colab": {
   "collapsed_sections": [],
   "provenance": []
  },
  "kernelspec": {
   "display_name": "Python 3 (ipykernel)",
   "language": "python",
   "name": "python3"
  },
  "language_info": {
   "codemirror_mode": {
    "name": "ipython",
    "version": 3
   },
   "file_extension": ".py",
   "mimetype": "text/x-python",
   "name": "python",
   "nbconvert_exporter": "python",
   "pygments_lexer": "ipython3",
   "version": "3.8.13"
  },
  "vscode": {
   "interpreter": {
    "hash": "0ff47b9ca6405c2db25e0c8590a4a87a312ef3bde027bbebcfe2b7cbb2bae6fc"
   }
  }
 },
 "nbformat": 4,
 "nbformat_minor": 4
}
