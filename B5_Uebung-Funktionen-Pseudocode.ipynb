{
 "cells": [
  {
   "cell_type": "markdown",
   "metadata": {},
   "source": [
    "#"
   ]
  },
  {
   "cell_type": "markdown",
   "metadata": {},
   "source": [
    "# Übung Funktionen und Pseudocode"
   ]
  },
  {
   "cell_type": "markdown",
   "metadata": {},
   "source": [
    "# Aufgabe 1:\n",
    "\n",
    "Verfassen Sie zunächst den Pseudocode zu den nachfolgenden Anweisungen:\n",
    "\n",
    "Für die Zahlen zwischen 1 und 50 soll:\n",
    "\n",
    "    FizzBuzz ausgegeben werden, wenn die Zahl durch 3 und 5 teilbar ist\n",
    "\n",
    "    Fizz ausgegeben werden, wenn die Zahl durch 3 teilbar ist\n",
    "\n",
    "    Buzz ausgegeben werden, wenn die Zahl durch 5 teilbar ist\n",
    "\n",
    "    Sonst soll die Zahl selbst ausgegeben werden.\n",
    "\n",
    "Setzen Sie die Anweisungen anschließend auf Grundlage Ihres Pseudocodes in ein Python-Skript um.\n",
    "\n"
   ]
  },
  {
   "cell_type": "markdown",
   "metadata": {},
   "source": [
    "FOR i from 1 TO 50 DO\n",
    "\n",
    "    IF i is divisible by 3 AND i is divisible by 5 THEN\n",
    "\n",
    "        OUTPUT \"FizzBuzz\"\n",
    "\n",
    "    ELSE IF i is divisible by 3 THEN\n",
    "\n",
    "        OUTPUT \"Fizz\"\n",
    "\n",
    "    ELSE IF i is divisible by 5 THEN\n",
    "\n",
    "        OUTPUT \"Buzz\"\n",
    "\n",
    "    ELSE\n",
    "    \n",
    "        OUTPUT i"
   ]
  },
  {
   "cell_type": "code",
   "execution_count": 1,
   "metadata": {},
   "outputs": [
    {
     "name": "stdout",
     "output_type": "stream",
     "text": [
      "1\n",
      "2\n",
      "Fizz\n",
      "4\n",
      "Buzz\n",
      "Fizz\n",
      "7\n",
      "8\n",
      "Fizz\n",
      "Buzz\n",
      "11\n",
      "Fizz\n",
      "13\n",
      "14\n",
      "FizzBuzz\n",
      "16\n",
      "17\n",
      "Fizz\n",
      "19\n",
      "Buzz\n",
      "Fizz\n",
      "22\n",
      "23\n",
      "Fizz\n",
      "Buzz\n",
      "26\n",
      "Fizz\n",
      "28\n",
      "29\n",
      "FizzBuzz\n",
      "31\n",
      "32\n",
      "Fizz\n",
      "34\n",
      "Buzz\n",
      "Fizz\n",
      "37\n",
      "38\n",
      "Fizz\n",
      "Buzz\n",
      "41\n",
      "Fizz\n",
      "43\n",
      "44\n",
      "FizzBuzz\n",
      "46\n",
      "47\n",
      "Fizz\n",
      "49\n"
     ]
    }
   ],
   "source": [
    "for i in range(1,50):\n",
    "    \n",
    "    if i % 3 == 0 and i % 5 == 0:\n",
    "        print('FizzBuzz')\n",
    "        \n",
    "    elif i % 3 == 0:\n",
    "        print('Fizz')\n",
    "        \n",
    "    elif i % 5 == 0:\n",
    "        print('Buzz')\n",
    "        \n",
    "    else:\n",
    "        print(i)"
   ]
  },
  {
   "cell_type": "markdown",
   "metadata": {},
   "source": [
    "## Aufgabe 2:\n",
    "\n",
    "Erstellen Sie eine Funktion, die Dictionary zurückgibt, das pro Wort (key) die Anzahl seines Vorkommens im Text (value) abspeichert. Beachte Sie bei der Übergabe eines Strings an die Funktion, dass der String zunächst noch mit der `split()`-Methode in eine Liste umgewandelt wird. \n",
    "Was fällt Ihnen bei der Sichtung der Ergebnisse auf?"
   ]
  },
  {
   "cell_type": "code",
   "execution_count": 1,
   "metadata": {},
   "outputs": [],
   "source": [
    "text = '''Lorem ipsum dolor sit amet, consetetur sadipscing elitr, \n",
    "            sed diam nonumy eirmod tempor invidunt ut labore et dolore magna aliquyam erat, \n",
    "            sed diam voluptua. At vero eos et accusam et justo duo dolores et ea rebum. \n",
    "            Stet clita kasd gubergren, no sea takimata sanctus est Lorem ipsum dolor sit amet. \n",
    "            Lorem ipsum dolor sit amet, consetetur sadipscing elitr, sed diam nonumy eirmod tempor \n",
    "            invidunt ut labore et dolore magna aliquyam erat, sed diam voluptua. At vero eos et \n",
    "            accusam et justo duo dolores et ea rebum. Stet clita kasd gubergren, no sea takimata sanctus \n",
    "            est Lorem ipsum dolor sit amet.'''"
   ]
  },
  {
   "cell_type": "code",
   "execution_count": 2,
   "metadata": {},
   "outputs": [],
   "source": [
    "def count_absolute_frequency(text):\n",
    "    '''The function returns a dictionary object containing the absolute frequency for\n",
    "    each unique token in a given text.\n",
    "    \n",
    "    Args: string\n",
    "    Returns: dictionary\n",
    "    '''\n",
    "\n",
    "    tokenized_text = text.split()\n",
    "\n",
    "    # initialize empty dictionary\n",
    "    frequencies = {}\n",
    "\n",
    "    # compute absolute frequency\n",
    "    for token in tokenized_text:\n",
    "        if token in frequencies:\n",
    "            frequencies[token] = frequencies[token] + 1\n",
    "        else:\n",
    "            frequencies[token] = 1  \n",
    "\n",
    "    return frequencies"
   ]
  },
  {
   "cell_type": "code",
   "execution_count": 3,
   "metadata": {},
   "outputs": [
    {
     "data": {
      "text/plain": [
       "{'Lorem': 4,\n",
       " 'ipsum': 4,\n",
       " 'dolor': 4,\n",
       " 'sit': 4,\n",
       " 'amet,': 2,\n",
       " 'consetetur': 2,\n",
       " 'sadipscing': 2,\n",
       " 'elitr,': 2,\n",
       " 'sed': 4,\n",
       " 'diam': 4,\n",
       " 'nonumy': 2,\n",
       " 'eirmod': 2,\n",
       " 'tempor': 2,\n",
       " 'invidunt': 2,\n",
       " 'ut': 2,\n",
       " 'labore': 2,\n",
       " 'et': 8,\n",
       " 'dolore': 2,\n",
       " 'magna': 2,\n",
       " 'aliquyam': 2,\n",
       " 'erat,': 2,\n",
       " 'voluptua.': 2,\n",
       " 'At': 2,\n",
       " 'vero': 2,\n",
       " 'eos': 2,\n",
       " 'accusam': 2,\n",
       " 'justo': 2,\n",
       " 'duo': 2,\n",
       " 'dolores': 2,\n",
       " 'ea': 2,\n",
       " 'rebum.': 2,\n",
       " 'Stet': 2,\n",
       " 'clita': 2,\n",
       " 'kasd': 2,\n",
       " 'gubergren,': 2,\n",
       " 'no': 2,\n",
       " 'sea': 2,\n",
       " 'takimata': 2,\n",
       " 'sanctus': 2,\n",
       " 'est': 2,\n",
       " 'amet.': 2}"
      ]
     },
     "execution_count": 3,
     "metadata": {},
     "output_type": "execute_result"
    }
   ],
   "source": [
    "count_absolute_frequency(text)"
   ]
  },
  {
   "cell_type": "code",
   "execution_count": null,
   "metadata": {},
   "outputs": [],
   "source": []
  }
 ],
 "metadata": {
  "kernelspec": {
   "display_name": "Python 3.9.7 ('base')",
   "language": "python",
   "name": "python3"
  },
  "language_info": {
   "codemirror_mode": {
    "name": "ipython",
    "version": 3
   },
   "file_extension": ".py",
   "mimetype": "text/x-python",
   "name": "python",
   "nbconvert_exporter": "python",
   "pygments_lexer": "ipython3",
   "version": "3.9.7"
  },
  "orig_nbformat": 4,
  "vscode": {
   "interpreter": {
    "hash": "4cab2e3c59f82d31ef33573b56569893ba7388f3e17b6676d60d91498ea89ea5"
   }
  }
 },
 "nbformat": 4,
 "nbformat_minor": 2
}
