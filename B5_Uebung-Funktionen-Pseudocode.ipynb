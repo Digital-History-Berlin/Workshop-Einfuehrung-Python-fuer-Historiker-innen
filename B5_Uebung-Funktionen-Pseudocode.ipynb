{
 "cells": [
  {
   "cell_type": "markdown",
   "metadata": {},
   "source": [
    "#"
   ]
  },
  {
   "cell_type": "markdown",
   "metadata": {},
   "source": [
    "# Übung Funktionen und Pseudocode"
   ]
  },
  {
   "cell_type": "markdown",
   "metadata": {},
   "source": [
    "# Aufgabe 1:\n",
    "\n",
    "Verfassen Sie zunächst den Pseudocode zu den nachfolgenden Anweisungen:\n",
    "\n",
    "Für die Zahlen zwischen 1 und 50 soll:\n",
    "\n",
    "    FizzBuzz ausgegeben werden, wenn die Zahl durch 3 und 5 teilbar ist\n",
    "\n",
    "    Fizz ausgegeben werden, wenn die Zahl durch 3 teilbar ist\n",
    "\n",
    "    Buzz ausgegeben werden, wenn die Zahl durch 5 teilbar ist\n",
    "\n",
    "    Sonst soll die Zahl selbst ausgegeben werden.\n",
    "\n",
    "Setzen Sie die Anweisungen anschließend auf Grundlage Ihres Pseudocodes in ein Python-Skript um.\n",
    "\n"
   ]
  },
  {
   "cell_type": "markdown",
   "metadata": {},
   "source": []
  },
  {
   "cell_type": "code",
   "execution_count": null,
   "metadata": {},
   "outputs": [],
   "source": []
  },
  {
   "cell_type": "markdown",
   "metadata": {},
   "source": [
    "## Aufgabe 2:\n",
    "\n",
    "Erstellen Sie eine Funktion, die ein Dictionary zurückgibt, das pro Wort (key) die Anzahl seines Vorkommens im Text (value) abspeichert. Beachten Sie bei der Übergabe eines Strings an die Funktion, dass der String zunächst noch mit der `split()`-Methode in eine Liste umgewandelt wird. \n",
    "Was fällt Ihnen bei der Sichtung der Ergebnisse auf?"
   ]
  },
  {
   "cell_type": "code",
   "execution_count": 1,
   "metadata": {},
   "outputs": [],
   "source": [
    "text = '''Lorem ipsum dolor sit amet, consetetur sadipscing elitr, \n",
    "            sed diam nonumy eirmod tempor invidunt ut labore et dolore magna aliquyam erat, \n",
    "            sed diam voluptua. At vero eos et accusam et justo duo dolores et ea rebum. \n",
    "            Stet clita kasd gubergren, no sea takimata sanctus est Lorem ipsum dolor sit amet. \n",
    "            Lorem ipsum dolor sit amet, consetetur sadipscing elitr, sed diam nonumy eirmod tempor \n",
    "            invidunt ut labore et dolore magna aliquyam erat, sed diam voluptua. At vero eos et \n",
    "            accusam et justo duo dolores et ea rebum. Stet clita kasd gubergren, no sea takimata sanctus \n",
    "            est Lorem ipsum dolor sit amet.'''"
   ]
  },
  {
   "cell_type": "code",
   "execution_count": 2,
   "metadata": {},
   "outputs": [],
   "source": []
  }
 ],
 "metadata": {
  "kernelspec": {
   "display_name": "Python 3.9.7 ('base')",
   "language": "python",
   "name": "python3"
  },
  "language_info": {
   "codemirror_mode": {
    "name": "ipython",
    "version": 3
   },
   "file_extension": ".py",
   "mimetype": "text/x-python",
   "name": "python",
   "nbconvert_exporter": "python",
   "pygments_lexer": "ipython3",
   "version": "3.9.7"
  },
  "orig_nbformat": 4,
  "vscode": {
   "interpreter": {
    "hash": "4cab2e3c59f82d31ef33573b56569893ba7388f3e17b6676d60d91498ea89ea5"
   }
  }
 },
 "nbformat": 4,
 "nbformat_minor": 2
}
