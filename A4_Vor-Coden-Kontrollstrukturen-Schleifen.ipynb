{
 "cells": [
  {
   "cell_type": "markdown",
   "metadata": {},
   "source": [
    "# Kontrollstrukturen und Schleifen"
   ]
  },
  {
   "cell_type": "markdown",
   "metadata": {},
   "source": [
    "## Boolsche Werte"
   ]
  },
  {
   "cell_type": "code",
   "execution_count": 1,
   "metadata": {},
   "outputs": [
    {
     "name": "stdout",
     "output_type": "stream",
     "text": [
      "True\n"
     ]
    }
   ],
   "source": [
    "x = True\n",
    "print(x)"
   ]
  },
  {
   "cell_type": "code",
   "execution_count": 3,
   "metadata": {},
   "outputs": [
    {
     "name": "stdout",
     "output_type": "stream",
     "text": [
      "False\n"
     ]
    }
   ],
   "source": [
    "y = False\n",
    "print(y)"
   ]
  },
  {
   "cell_type": "code",
   "execution_count": 4,
   "metadata": {},
   "outputs": [
    {
     "data": {
      "text/plain": [
       "True"
      ]
     },
     "execution_count": 4,
     "metadata": {},
     "output_type": "execute_result"
    }
   ],
   "source": [
    "'Hello' in 'Hello World!'"
   ]
  },
  {
   "cell_type": "code",
   "execution_count": 5,
   "metadata": {},
   "outputs": [
    {
     "data": {
      "text/plain": [
       "False"
      ]
     },
     "execution_count": 5,
     "metadata": {},
     "output_type": "execute_result"
    }
   ],
   "source": [
    "'Hallo' in 'Hello World!'"
   ]
  },
  {
   "cell_type": "code",
   "execution_count": 6,
   "metadata": {},
   "outputs": [
    {
     "data": {
      "text/plain": [
       "True"
      ]
     },
     "execution_count": 6,
     "metadata": {},
     "output_type": "execute_result"
    }
   ],
   "source": [
    "'lo' in 'Hello World!'"
   ]
  },
  {
   "cell_type": "markdown",
   "metadata": {},
   "source": [
    "## Vergleichsoperatoren"
   ]
  },
  {
   "cell_type": "code",
   "execution_count": 7,
   "metadata": {},
   "outputs": [
    {
     "name": "stdout",
     "output_type": "stream",
     "text": [
      "True\n"
     ]
    }
   ],
   "source": [
    "print(5 < 10)"
   ]
  },
  {
   "cell_type": "code",
   "execution_count": 8,
   "metadata": {},
   "outputs": [
    {
     "name": "stdout",
     "output_type": "stream",
     "text": [
      "False\n"
     ]
    }
   ],
   "source": [
    "print(5 > 10)"
   ]
  },
  {
   "cell_type": "code",
   "execution_count": 9,
   "metadata": {},
   "outputs": [
    {
     "name": "stdout",
     "output_type": "stream",
     "text": [
      "True\n"
     ]
    }
   ],
   "source": [
    "print('Hallo' == 'Hallo')"
   ]
  },
  {
   "cell_type": "code",
   "execution_count": 10,
   "metadata": {},
   "outputs": [
    {
     "name": "stdout",
     "output_type": "stream",
     "text": [
      "False\n"
     ]
    }
   ],
   "source": [
    "print('Hello' == 'Hallo')"
   ]
  },
  {
   "cell_type": "code",
   "execution_count": 11,
   "metadata": {},
   "outputs": [
    {
     "name": "stdout",
     "output_type": "stream",
     "text": [
      "False\n"
     ]
    }
   ],
   "source": [
    "print('42' == 42)"
   ]
  },
  {
   "cell_type": "code",
   "execution_count": 14,
   "metadata": {},
   "outputs": [
    {
     "name": "stdout",
     "output_type": "stream",
     "text": [
      "True\n"
     ]
    }
   ],
   "source": [
    "print(5 != 10)"
   ]
  },
  {
   "cell_type": "code",
   "execution_count": 15,
   "metadata": {},
   "outputs": [
    {
     "name": "stdout",
     "output_type": "stream",
     "text": [
      "Die Zeichenkette ist enthalten.\n",
      "Abfrage beendet.\n"
     ]
    }
   ],
   "source": [
    "greeting = 'Hello World!'\n",
    "sub_string = 'Hello'\n",
    "\n",
    "if sub_string in greeting:\n",
    "    print('Die Zeichenkette ist enthalten.')\n",
    "else:\n",
    "    print('Leider ist die Zeichenkette nicht enthalten.')\n",
    "\n",
    "print('Abfrage beendet.')"
   ]
  },
  {
   "cell_type": "code",
   "execution_count": 17,
   "metadata": {},
   "outputs": [
    {
     "name": "stdout",
     "output_type": "stream",
     "text": [
      "Leider ist die Zeichenkette nicht enthalten.\n",
      "Abfrage beendet.\n"
     ]
    }
   ],
   "source": [
    "sub_string_2 = 'Hallo'\n",
    "\n",
    "if sub_string_2 in greeting:\n",
    "    print('Die Zeichenkette ist enthalten.')\n",
    "\n",
    "elif sub_string_2 == greeting:\n",
    "    print('Die Zeichenkette ist mit der Grußformel identisch.')\n",
    "\n",
    "else:\n",
    "    print('Leider ist die Zeichenkette nicht enthalten.')\n",
    "\n",
    "print('Abfrage beendet.')"
   ]
  },
  {
   "cell_type": "markdown",
   "metadata": {},
   "source": [
    "=> Übung Variablen prüfen, ob Jahr der Frz. Revolution"
   ]
  },
  {
   "cell_type": "code",
   "execution_count": 18,
   "metadata": {},
   "outputs": [
    {
     "name": "stdout",
     "output_type": "stream",
     "text": [
      "In diesem Jahr fand die Französische Revolution NICHT statt.\n"
     ]
    }
   ],
   "source": [
    "# Lösung der Übung:\n",
    "\n",
    "jahr_x = 1648\n",
    "jahr_y = 1789\n",
    "jahr_z = 1914\n",
    "\n",
    "if jahr_x == 1789:\n",
    "    print('In diesem Jahr fand die Französische Revolution statt.')\n",
    "else: \n",
    "    print('In diesem Jahr fand die Französische Revolution NICHT statt.')"
   ]
  },
  {
   "cell_type": "code",
   "execution_count": 19,
   "metadata": {},
   "outputs": [
    {
     "name": "stdout",
     "output_type": "stream",
     "text": [
      "In diesem Jahr fand die Französische Revolution statt.\n"
     ]
    }
   ],
   "source": [
    "if jahr_y == 1789:\n",
    "    print('In diesem Jahr fand die Französische Revolution statt.')\n",
    "else: \n",
    "    print('In diesem Jahr fand die Französische Revolution NICHT statt.')"
   ]
  },
  {
   "cell_type": "code",
   "execution_count": 20,
   "metadata": {},
   "outputs": [
    {
     "name": "stdout",
     "output_type": "stream",
     "text": [
      "In diesem Jahr fand die Französische Revolution NICHT statt.\n"
     ]
    }
   ],
   "source": [
    "if jahr_z == 1789:\n",
    "    print('In diesem Jahr fand die Französische Revolution statt.')\n",
    "else: \n",
    "    print('In diesem Jahr fand die Französische Revolution NICHT statt.')"
   ]
  },
  {
   "cell_type": "markdown",
   "metadata": {},
   "source": [
    "## Schleifen"
   ]
  },
  {
   "cell_type": "code",
   "execution_count": 21,
   "metadata": {},
   "outputs": [
    {
     "name": "stdout",
     "output_type": "stream",
     "text": [
      "1648 In diesem Jahr fand die Französische Revolution NICHT statt.\n",
      "1789 In diesem Jahr fand die Französische Revolution statt.\n",
      "1914 In diesem Jahr fand die Französische Revolution NICHT statt.\n"
     ]
    }
   ],
   "source": [
    "# Lösung 2\n",
    "\n",
    "jahre = [ jahr_x, jahr_y, jahr_z ]\n",
    "\n",
    "for jahr in jahre: # jahr ist die Laufvariable\n",
    "    if jahr == 1789:\n",
    "        print(jahr, 'In diesem Jahr fand die Französische Revolution statt.')\n",
    "    else: \n",
    "        print(jahr, 'In diesem Jahr fand die Französische Revolution NICHT statt.')   \n"
   ]
  },
  {
   "cell_type": "code",
   "execution_count": 22,
   "metadata": {},
   "outputs": [
    {
     "name": "stdout",
     "output_type": "stream",
     "text": [
      "H\n",
      "e\n",
      "l\n",
      "l\n",
      "o\n",
      " \n",
      "W\n",
      "o\n",
      "r\n",
      "l\n",
      "d\n",
      "!\n"
     ]
    }
   ],
   "source": [
    "for x in 'Hello World!':\n",
    "    print(x)"
   ]
  },
  {
   "cell_type": "code",
   "execution_count": 24,
   "metadata": {},
   "outputs": [
    {
     "name": "stdout",
     "output_type": "stream",
     "text": [
      "Hello World!"
     ]
    }
   ],
   "source": [
    "# x ist die Laufvariable\n",
    "\n",
    "for x in 'Hello World!': \n",
    "    print(x, end='')"
   ]
  },
  {
   "cell_type": "code",
   "execution_count": 25,
   "metadata": {},
   "outputs": [
    {
     "name": "stdout",
     "output_type": "stream",
     "text": [
      "0\n",
      "1\n",
      "2\n",
      "3\n",
      "4\n",
      "5\n",
      "6\n",
      "7\n",
      "8\n",
      "9\n",
      "10\n"
     ]
    }
   ],
   "source": [
    "for x in range(0,11):\n",
    "    print(x)"
   ]
  },
  {
   "cell_type": "code",
   "execution_count": 29,
   "metadata": {},
   "outputs": [
    {
     "name": "stdout",
     "output_type": "stream",
     "text": [
      "0\n",
      "1\n",
      "2\n",
      "3\n",
      "4\n",
      "5\n",
      "6\n",
      "7\n",
      "8\n",
      "9\n"
     ]
    }
   ],
   "source": [
    "# while-Schleife\n",
    "\n",
    "y = 0\n",
    "while y < 10:\n",
    "    print(y)\n",
    "    y += 1"
   ]
  },
  {
   "cell_type": "code",
   "execution_count": 31,
   "metadata": {},
   "outputs": [
    {
     "name": "stdout",
     "output_type": "stream",
     "text": [
      "Anton\n",
      "Alfons\n"
     ]
    }
   ],
   "source": [
    "boy_names = ['Anton', 'Emil', 'Theo', 'Alfons']\n",
    "\n",
    "for name in boy_names:\n",
    "    if name.startswith('A'):\n",
    "        print(name)\n",
    "    # else: \n",
    "    #     print('Name beginnt nicht mit A.')"
   ]
  },
  {
   "cell_type": "markdown",
   "metadata": {},
   "source": [
    "=> Übung \n",
    "Liste mit 5 Früchten erstellen\n",
    "Prüfen, welche Frucht auf den Buchstaben e endet.\n",
    "\n",
    "=> Übung\n",
    "Prüfen ob Buchstabe in Vokal ist:\n"
   ]
  },
  {
   "cell_type": "code",
   "execution_count": null,
   "metadata": {},
   "outputs": [],
   "source": []
  }
 ],
 "metadata": {
  "kernelspec": {
   "display_name": "Python 3.9.7 ('base')",
   "language": "python",
   "name": "python3"
  },
  "language_info": {
   "codemirror_mode": {
    "name": "ipython",
    "version": 3
   },
   "file_extension": ".py",
   "mimetype": "text/x-python",
   "name": "python",
   "nbconvert_exporter": "python",
   "pygments_lexer": "ipython3",
   "version": "3.9.7"
  },
  "orig_nbformat": 4,
  "vscode": {
   "interpreter": {
    "hash": "4cab2e3c59f82d31ef33573b56569893ba7388f3e17b6676d60d91498ea89ea5"
   }
  }
 },
 "nbformat": 4,
 "nbformat_minor": 2
}
