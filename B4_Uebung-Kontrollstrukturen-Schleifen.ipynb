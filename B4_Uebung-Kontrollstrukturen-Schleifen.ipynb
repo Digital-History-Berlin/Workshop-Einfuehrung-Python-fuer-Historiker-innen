{
 "cells": [
  {
   "cell_type": "markdown",
   "metadata": {},
   "source": [
    "# Übungen zu Kontrollstrukturen und Schleifen"
   ]
  },
  {
   "cell_type": "markdown",
   "metadata": {},
   "source": [
    "# Aufgabe 1:\n",
    "\n",
    "Definieren Sie die folgenden Variablen\n",
    "```python\n",
    "jahr_x = 1648\n",
    "jahr_y = 1789\n",
    "jahr_z = 1914\n",
    "```\n",
    "Prüfen Sie für jede Variable mit einem if-else-Statement, ob in diesem Jahr die Französischen Revolution stattgefunden hat. Nutzen Sie `print`-Statements für die Ausgabe der Prüfung."
   ]
  },
  {
   "cell_type": "code",
   "execution_count": 1,
   "metadata": {},
   "outputs": [
    {
     "name": "stdout",
     "output_type": "stream",
     "text": [
      "1648 In diesem Jahr fand die Französische Revolution NICHT statt.\n",
      "1789 In diesem Jahr fand die Französische Revolution statt.\n",
      "1914 In diesem Jahr fand die Französische Revolution NICHT statt.\n"
     ]
    }
   ],
   "source": [
    "jahr_x = 1648\n",
    "jahr_y = 1789\n",
    "jahr_z = 1914\n",
    "\n",
    "jahre = [ jahr_x, jahr_y, jahr_z ]\n",
    "\n",
    "for jahr in jahre: # jahr ist die Laufvariable\n",
    "    if jahr == 1789:\n",
    "        print(jahr, 'In diesem Jahr fand die Französische Revolution statt.')\n",
    "    else: \n",
    "        print(jahr, 'In diesem Jahr fand die Französische Revolution NICHT statt.')   "
   ]
  },
  {
   "cell_type": "markdown",
   "metadata": {},
   "source": [
    "## Aufgabe 2:\n",
    "\n",
    "Erstellen Sie eine Liste `obstkorb`, die als Elemente strings mit den Bezeichnungen von fünf Früchten enthält. Nutzen Sie eine `for`-Schleife, um die Früchte auszugeben, die mit einem 'e' enden."
   ]
  },
  {
   "cell_type": "code",
   "execution_count": 2,
   "metadata": {},
   "outputs": [
    {
     "name": "stdout",
     "output_type": "stream",
     "text": [
      "Banane\n",
      "Weintraube\n"
     ]
    }
   ],
   "source": [
    "obstkorb = [ 'Banane', 'Apfel', 'Kiwi', 'Weintraube', 'Mango']\n",
    "\n",
    "for obst in obstkorb:\n",
    "    if obst.endswith('e'):\n",
    "        print(obst)"
   ]
  },
  {
   "cell_type": "markdown",
   "metadata": {},
   "source": [
    "## Aufgabe 3:\n",
    "\n",
    "Weisen Sie einer Variablen einen kurzen Satz zu. Prüfen Sie, ob die Buchstaben, die in dem Satz vorkommen ein Vokal ist und fügen Sie dann diesen Vokal der zuvor definierten Liste `vowels` an. Geben Sie am Ende die Anzahl der in dem Satz enthaltenen Vokale aus."
   ]
  },
  {
   "cell_type": "code",
   "execution_count": 3,
   "metadata": {},
   "outputs": [
    {
     "name": "stdout",
     "output_type": "stream",
     "text": [
      "['e', 'i', 'a', 'e', 'i', 'a', 'i']\n",
      "7\n"
     ]
    }
   ],
   "source": [
    "text = 'Mein Name ist Martin.'\n",
    "\n",
    "vowels = []\n",
    "\n",
    "for char in text:\n",
    "    if char in 'aeiou':\n",
    "        vowels.append(char)\n",
    "\n",
    "print(vowels)\n",
    "print(len(vowels))\n"
   ]
  },
  {
   "cell_type": "code",
   "execution_count": null,
   "metadata": {},
   "outputs": [],
   "source": []
  }
 ],
 "metadata": {
  "kernelspec": {
   "display_name": "Python 3.9.7 ('base')",
   "language": "python",
   "name": "python3"
  },
  "language_info": {
   "codemirror_mode": {
    "name": "ipython",
    "version": 3
   },
   "file_extension": ".py",
   "mimetype": "text/x-python",
   "name": "python",
   "nbconvert_exporter": "python",
   "pygments_lexer": "ipython3",
   "version": "3.9.7"
  },
  "orig_nbformat": 4,
  "vscode": {
   "interpreter": {
    "hash": "4cab2e3c59f82d31ef33573b56569893ba7388f3e17b6676d60d91498ea89ea5"
   }
  }
 },
 "nbformat": 4,
 "nbformat_minor": 2
}
