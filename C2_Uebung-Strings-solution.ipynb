{
 "cells": [
  {
   "cell_type": "markdown",
   "metadata": {
    "id": "mFGgv590_VDX"
   },
   "source": [
    "# Übungen zu Strings"
   ]
  },
  {
   "cell_type": "markdown",
   "metadata": {
    "id": "G4abBvMq_VDZ"
   },
   "source": [
    "## Aufgabe 1:\n",
    "\n",
    "Erstellen Sie einen String und weisen diesen einer Variablen zu. Der String sollte eine Länge zwischen 50 und 75 Zeichen inkl. Whitespaces umfassen. Prüfen Sie die Länge des Strings.\n",
    "\n",
    "Geben Sie den String kleingeschrieben aus.\n",
    "\n",
    "Prüfen Sie, ob der String mit dem Substring 'Hallo' beginnt oder endet.\n",
    "\n",
    "Zählen Sie alle 'a' in dem String.\n",
    "\n",
    "Ersetzen Sie die ersten fünf Zeichen des Strings durch den String 'Moin'.\n"
   ]
  },
  {
   "cell_type": "code",
   "execution_count": 1,
   "metadata": {
    "id": "TcaSGB_t_VDb"
   },
   "outputs": [],
   "source": [
    "satz = 'Hallo, ich wünsche einen wunderschönen guten Morgen!'"
   ]
  },
  {
   "cell_type": "code",
   "execution_count": 2,
   "metadata": {},
   "outputs": [
    {
     "name": "stdout",
     "output_type": "stream",
     "text": [
      "52\n"
     ]
    }
   ],
   "source": [
    "# check length\n",
    "\n",
    "print(len(satz))"
   ]
  },
  {
   "cell_type": "code",
   "execution_count": 3,
   "metadata": {},
   "outputs": [
    {
     "data": {
      "text/plain": [
       "'hallo, ich wünsche einen wunderschönen guten morgen!'"
      ]
     },
     "execution_count": 3,
     "metadata": {},
     "output_type": "execute_result"
    }
   ],
   "source": [
    "# to lowercase\n",
    "\n",
    "satz.lower()"
   ]
  },
  {
   "cell_type": "code",
   "execution_count": 4,
   "metadata": {},
   "outputs": [
    {
     "name": "stdout",
     "output_type": "stream",
     "text": [
      "True\n",
      "False\n"
     ]
    }
   ],
   "source": [
    "# check start and end\n",
    "\n",
    "print(satz.startswith('Hallo'))\n",
    "print(satz.endswith('Hallo'))"
   ]
  },
  {
   "cell_type": "code",
   "execution_count": 5,
   "metadata": {},
   "outputs": [
    {
     "data": {
      "text/plain": [
       "1"
      ]
     },
     "execution_count": 5,
     "metadata": {},
     "output_type": "execute_result"
    }
   ],
   "source": [
    "# count all 'a'\n",
    "\n",
    "satz.count('a')"
   ]
  },
  {
   "cell_type": "code",
   "execution_count": 6,
   "metadata": {},
   "outputs": [
    {
     "name": "stdout",
     "output_type": "stream",
     "text": [
      "Moin, ich wünsche einen wunderschönen guten Morgen!\n"
     ]
    }
   ],
   "source": [
    "# replace first five elements by 'Moin'\n",
    "\n",
    "print(satz.replace(satz[:5], 'Moin'))"
   ]
  },
  {
   "cell_type": "markdown",
   "metadata": {
    "id": "L6cCC7Ir_VDc"
   },
   "source": [
    "## Aufgabe 2:\n",
    "\n",
    "Erstellen Sie zwei Strings, die ein Wort darstellen, und weisen Sie diese Strings je einer Variablen zu.\n",
    "\n",
    "Konkatenieren Sie die beiden Variablen und geben Sie das Ergebnis aus. \n",
    "\n",
    "Geben Sie beide Strings fünfmal hintereinander aus.\n",
    "\n",
    "Bilden Sie einen Satz und nutzen Sie f-Strings, um die beiden Strings aus den Variablen einzufügen."
   ]
  },
  {
   "cell_type": "code",
   "execution_count": 7,
   "metadata": {
    "id": "R6ccRRGs_VDd"
   },
   "outputs": [],
   "source": [
    "# assign variables\n",
    "\n",
    "var_1 = 'Brot'\n",
    "var_2 = 'Käse'"
   ]
  },
  {
   "cell_type": "code",
   "execution_count": 8,
   "metadata": {},
   "outputs": [
    {
     "data": {
      "text/plain": [
       "'KäseBrot'"
      ]
     },
     "execution_count": 8,
     "metadata": {},
     "output_type": "execute_result"
    }
   ],
   "source": [
    "# concat variables\n",
    "\n",
    "var_3 = var_2 + var_1\n",
    "var_3"
   ]
  },
  {
   "cell_type": "code",
   "execution_count": 9,
   "metadata": {},
   "outputs": [
    {
     "name": "stdout",
     "output_type": "stream",
     "text": [
      "BrotBrotBrotBrotBrot\n",
      "KäseKäseKäseKäseKäse\n"
     ]
    }
   ],
   "source": [
    "# multiply variables by five\n",
    "\n",
    "print(var_1 * 5)\n",
    "print(var_2 * 5)"
   ]
  },
  {
   "cell_type": "code",
   "execution_count": 10,
   "metadata": {},
   "outputs": [
    {
     "name": "stdout",
     "output_type": "stream",
     "text": [
      "Ich habe Brot und Käse eingekauft und mache mir ein Brot mit Käse.\n"
     ]
    }
   ],
   "source": [
    "# use f-strings to insert variables\n",
    "\n",
    "print(f'Ich habe {var_1} und {var_2} eingekauft und mache mir ein {var_1} mit {var_2}.')"
   ]
  },
  {
   "cell_type": "markdown",
   "metadata": {
    "id": "qIeBg0gf_VDe"
   },
   "source": [
    "## Aufgabe 3:\n",
    "\n",
    "Erstellen Sie einen String und weisen diesen einer Variablen zu. Der String sollte ein Satz bilden und eine Länge zwischen 50 und 75 Zeichen inkl. Whitespaces umfassen.\n",
    "\n",
    "Geben Sie die Zeichen an der Indexposition 25 und an der Position 50 aus.\n",
    "\n",
    "Geben Sie die Zeichen zwischen der Indexposition 30 und 38 aus.\n",
    "\n",
    "Geben Sie die letzten 10 Zeichen aus.\n",
    "\n",
    "Geben Sie alle Zeichen nach der Indexposition 13 aus.\n",
    "\n",
    "Geben Sie jedes zweite Zeichen aus.\n",
    "\n",
    "Geben Sie den Satz in umgekehrter Reihenfolge aus.\n",
    "\n",
    "Teilen Sie den String an den Leerzeichen auf und speichern die Rückgabe in einer Variable. Prüfen Sie den Typ dieser Variablen. Dann geben Sie von dem vierten Wort des Satzes die letzen beiden Zeichen aus. "
   ]
  },
  {
   "cell_type": "code",
   "execution_count": 11,
   "metadata": {
    "id": "FCX88pXY_VDe"
   },
   "outputs": [
    {
     "data": {
      "text/plain": [
       "51"
      ]
     },
     "execution_count": 11,
     "metadata": {},
     "output_type": "execute_result"
    }
   ],
   "source": [
    "# assign variable and check length\n",
    "\n",
    "sentence = 'Digital History zu studieren macht eine Menge Spaß!'\n",
    "len(sentence)"
   ]
  },
  {
   "cell_type": "code",
   "execution_count": 12,
   "metadata": {},
   "outputs": [
    {
     "name": "stdout",
     "output_type": "stream",
     "text": [
      "r\n",
      "!\n"
     ]
    }
   ],
   "source": [
    "# print indexpositions\n",
    "\n",
    "print(sentence[25])\n",
    "print(sentence[50])"
   ]
  },
  {
   "cell_type": "code",
   "execution_count": 13,
   "metadata": {},
   "outputs": [
    {
     "name": "stdout",
     "output_type": "stream",
     "text": [
      "acht ein\n"
     ]
    }
   ],
   "source": [
    "# slicing\n",
    "\n",
    "print(sentence[30:38])"
   ]
  },
  {
   "cell_type": "code",
   "execution_count": 14,
   "metadata": {},
   "outputs": [
    {
     "name": "stdout",
     "output_type": "stream",
     "text": [
      "enge Spaß!\n"
     ]
    }
   ],
   "source": [
    "# slicing\n",
    "\n",
    "print(sentence[-10:])"
   ]
  },
  {
   "cell_type": "code",
   "execution_count": 15,
   "metadata": {},
   "outputs": [
    {
     "name": "stdout",
     "output_type": "stream",
     "text": [
      "ry zu studieren macht eine Menge Spaß!\n"
     ]
    }
   ],
   "source": [
    "# slicing\n",
    "\n",
    "print(sentence[13:])"
   ]
  },
  {
   "cell_type": "code",
   "execution_count": 16,
   "metadata": {},
   "outputs": [
    {
     "name": "stdout",
     "output_type": "stream",
     "text": [
      "DgtlHsoyz tdee ah ieMneSa!\n"
     ]
    }
   ],
   "source": [
    "# use steps\n",
    "\n",
    "print(sentence[::2])"
   ]
  },
  {
   "cell_type": "code",
   "execution_count": 17,
   "metadata": {},
   "outputs": [
    {
     "name": "stdout",
     "output_type": "stream",
     "text": [
      "!ßapS egneM enie thcam nereiduts uz yrotsiH latigiD\n"
     ]
    }
   ],
   "source": [
    "# reversed\n",
    "\n",
    "print(sentence[::-1])"
   ]
  },
  {
   "cell_type": "code",
   "execution_count": 18,
   "metadata": {},
   "outputs": [
    {
     "name": "stdout",
     "output_type": "stream",
     "text": [
      "<class 'list'>\n",
      "['Digital', 'History', 'zu', 'studieren', 'macht', 'eine', 'Menge', 'Spaß!']\n"
     ]
    }
   ],
   "source": [
    "# split sentence in words and check typ\n",
    "\n",
    "words = sentence.split(\" \")\n",
    "print(type(words))\n",
    "print(words)"
   ]
  },
  {
   "cell_type": "code",
   "execution_count": 19,
   "metadata": {},
   "outputs": [
    {
     "data": {
      "text/plain": [
       "'en'"
      ]
     },
     "execution_count": 19,
     "metadata": {},
     "output_type": "execute_result"
    }
   ],
   "source": [
    "# get word at indexposition 3 and return last two elements\n",
    "\n",
    "words[3][-2:]"
   ]
  },
  {
   "cell_type": "code",
   "execution_count": null,
   "metadata": {},
   "outputs": [],
   "source": []
  }
 ],
 "metadata": {
  "colab": {
   "provenance": []
  },
  "kernelspec": {
   "display_name": "Python 3 (ipykernel)",
   "language": "python",
   "name": "python3"
  },
  "language_info": {
   "codemirror_mode": {
    "name": "ipython",
    "version": 3
   },
   "file_extension": ".py",
   "mimetype": "text/x-python",
   "name": "python",
   "nbconvert_exporter": "python",
   "pygments_lexer": "ipython3",
   "version": "3.8.13"
  },
  "vscode": {
   "interpreter": {
    "hash": "4cab2e3c59f82d31ef33573b56569893ba7388f3e17b6676d60d91498ea89ea5"
   }
  }
 },
 "nbformat": 4,
 "nbformat_minor": 4
}
