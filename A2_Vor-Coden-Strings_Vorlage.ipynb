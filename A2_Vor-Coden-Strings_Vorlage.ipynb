{
 "cells": [
  {
   "cell_type": "markdown",
   "metadata": {
    "id": "B7cG_8-D8_lF"
   },
   "source": [
    "# Strings"
   ]
  },
  {
   "cell_type": "markdown",
   "metadata": {
    "id": "YpTPHYod8_lO"
   },
   "source": [
    "## String-Methoden\n",
    "\n",
    "https://docs.python.org/3/library/stdtypes.html#text-sequence-type-str\n"
   ]
  },
  {
   "cell_type": "code",
   "execution_count": null,
   "metadata": {
    "id": "Bw9vVTGQ8_lR",
    "outputId": "3132159c-4307-4daf-ddee-e7abfa707f6a"
   },
   "outputs": [
    {
     "name": "stdout",
     "output_type": "stream",
     "text": [
      "['__add__', '__class__', '__contains__', '__delattr__', '__dir__', '__doc__', '__eq__', '__format__', '__ge__', '__getattribute__', '__getitem__', '__getnewargs__', '__gt__', '__hash__', '__init__', '__init_subclass__', '__iter__', '__le__', '__len__', '__lt__', '__mod__', '__mul__', '__ne__', '__new__', '__reduce__', '__reduce_ex__', '__repr__', '__rmod__', '__rmul__', '__setattr__', '__sizeof__', '__str__', '__subclasshook__', 'capitalize', 'casefold', 'center', 'count', 'encode', 'endswith', 'expandtabs', 'find', 'format', 'format_map', 'index', 'isalnum', 'isalpha', 'isascii', 'isdecimal', 'isdigit', 'isidentifier', 'islower', 'isnumeric', 'isprintable', 'isspace', 'istitle', 'isupper', 'join', 'ljust', 'lower', 'lstrip', 'maketrans', 'partition', 'removeprefix', 'removesuffix', 'replace', 'rfind', 'rindex', 'rjust', 'rpartition', 'rsplit', 'rstrip', 'split', 'splitlines', 'startswith', 'strip', 'swapcase', 'title', 'translate', 'upper', 'zfill']\n"
     ]
    }
   ],
   "source": [
    "print(dir(str))"
   ]
  },
  {
   "cell_type": "code",
   "execution_count": null,
   "metadata": {
    "id": "0F_anjVt8_lT"
   },
   "outputs": [],
   "source": [
    "sentence = \"ich studiere Geschichtswissenschaften an der Humboldt-Universität zu Berlin seit 2 Semestern.\""
   ]
  },
  {
   "cell_type": "code",
   "execution_count": null,
   "metadata": {
    "id": "N8YPKAxM8_lX",
    "outputId": "cead3a43-5072-4d87-bcbb-0299968ebadb"
   },
   "outputs": [
    {
     "name": "stdout",
     "output_type": "stream",
     "text": [
      "93\n"
     ]
    }
   ],
   "source": [
    "# len()\n",
    "\n",
    "print(len(sentence)) # returns length of string incl. whitespaces"
   ]
  },
  {
   "cell_type": "code",
   "execution_count": null,
   "metadata": {
    "id": "_wTIHzLH8_lc",
    "outputId": "73ddc26d-2c41-4815-90dd-fb4e3be983dc"
   },
   "outputs": [
    {
     "name": "stdout",
     "output_type": "stream",
     "text": [
      "Ich studiere geschichtswissenschaften an der humboldt-universität zu berlin seit 2 semestern.\n"
     ]
    }
   ],
   "source": [
    "# capitalize()\n",
    "\n",
    "print(sentence.capitalize()) # capitalize string"
   ]
  },
  {
   "cell_type": "code",
   "execution_count": null,
   "metadata": {
    "id": "76IuJ2JJ8_le",
    "outputId": "92a2f3a9-9b14-44f5-cfd3-d9ea3a15e0d7"
   },
   "outputs": [
    {
     "name": "stdout",
     "output_type": "stream",
     "text": [
      "ICH STUDIERE gESCHICHTSWISSENSCHAFTEN AN DER hUMBOLDT-uNIVERSITÄT ZU bERLIN SEIT 2 sEMESTERN.\n"
     ]
    }
   ],
   "source": [
    "# swapcase()\n",
    "\n",
    "print(sentence.swapcase()) # uppercase characters to lowercase and vice versa"
   ]
  },
  {
   "cell_type": "code",
   "execution_count": null,
   "metadata": {
    "id": "u9mKrDM98_lf",
    "outputId": "18063cf8-ccf8-4bc2-9582-a9360e760218"
   },
   "outputs": [
    {
     "name": "stdout",
     "output_type": "stream",
     "text": [
      "Ich Studiere Geschichtswissenschaften An Der Humboldt-Universität Zu Berlin Seit 2 Semestern.\n"
     ]
    }
   ],
   "source": [
    "# title()\n",
    "\n",
    "print(sentence.title()) # uppercase character after whitespace"
   ]
  },
  {
   "cell_type": "code",
   "execution_count": null,
   "metadata": {
    "id": "okkxXWGy8_lg",
    "outputId": "1094973b-2b1c-4bdd-8893-af648c799efa"
   },
   "outputs": [
    {
     "name": "stdout",
     "output_type": "stream",
     "text": [
      "ICH STUDIERE GESCHICHTSWISSENSCHAFTEN AN DER HUMBOLDT-UNIVERSITÄT ZU BERLIN SEIT 2 SEMESTERN.\n"
     ]
    }
   ],
   "source": [
    "# upper()\n",
    "\n",
    "print(sentence.upper()) # uppercase all characters"
   ]
  },
  {
   "cell_type": "code",
   "execution_count": null,
   "metadata": {
    "id": "Xbymyj2H8_li",
    "outputId": "b42eca6c-a744-40ec-f224-378c9a62690c"
   },
   "outputs": [
    {
     "name": "stdout",
     "output_type": "stream",
     "text": [
      "ich studiere geschichtswissenschaften an der humboldt-universität zu berlin seit 2 semestern.\n"
     ]
    }
   ],
   "source": [
    "# lower()\n",
    "\n",
    "print(sentence.lower()) # lowercase all characters"
   ]
  },
  {
   "cell_type": "code",
   "execution_count": null,
   "metadata": {
    "id": "jq9EDOQJ8_li",
    "outputId": "0a0f545a-b39f-4077-9a07-2f484dfd1187"
   },
   "outputs": [
    {
     "name": "stdout",
     "output_type": "stream",
     "text": [
      "True\n",
      "False\n"
     ]
    }
   ],
   "source": [
    "# startswith()\n",
    "\n",
    "print(sentence.startswith('ich')) # checks if strings starts with substring\n",
    "print(sentence.startswith('Ich'))"
   ]
  },
  {
   "cell_type": "code",
   "execution_count": null,
   "metadata": {
    "id": "DNmI4j4c8_lk",
    "outputId": "f47ae886-4f77-4488-fb58-92a0831317e4"
   },
   "outputs": [
    {
     "name": "stdout",
     "output_type": "stream",
     "text": [
      "True\n",
      "False\n"
     ]
    }
   ],
   "source": [
    "# endswith()\n",
    "\n",
    "print(sentence.endswith('Semestern.'))\n",
    "print(sentence.endswith('Semestern'))"
   ]
  },
  {
   "cell_type": "code",
   "execution_count": null,
   "metadata": {
    "id": "DSJhMKaZ8_ln",
    "outputId": "8a37faac-8282-408f-e95d-7a23a79b5571"
   },
   "outputs": [
    {
     "name": "stdout",
     "output_type": "stream",
     "text": [
      "Wie oft kommt \"Uni\" im Satz vor? =  1\n",
      "Wie oft kommt \"s\" im Satz vor? =  9\n"
     ]
    }
   ],
   "source": [
    "# counts()\n",
    "\n",
    "print('Wie oft kommt \"Uni\" im Satz vor? = ', sentence.count('Uni')) # counts substring in string\n",
    "\n",
    "print('Wie oft kommt \"s\" im Satz vor? = ', sentence.count('s')) # counts substring in string "
   ]
  },
  {
   "cell_type": "code",
   "execution_count": null,
   "metadata": {
    "id": "12_giqrr8_lq",
    "outputId": "9fbb1105-73aa-4888-aee0-82154a055da8"
   },
   "outputs": [
    {
     "name": "stdout",
     "output_type": "stream",
     "text": [
      "ich studiere Geschichtswissenschaften an der Goethe-Universität zu Berlin seit 2 Semestern.\n"
     ]
    }
   ],
   "source": [
    "# replace()\n",
    "\n",
    "print(sentence.replace('Humboldt', 'Goethe')) # replaces substring by substring"
   ]
  },
  {
   "cell_type": "code",
   "execution_count": null,
   "metadata": {
    "id": "d8SmfIZK8_lr",
    "outputId": "418f5e8c-ea5e-4a71-da19-d938254836a0"
   },
   "outputs": [
    {
     "name": "stdout",
     "output_type": "stream",
     "text": [
      "['ich', 'studiere', 'Geschichtswissenschaften', 'an', 'der', 'Humboldt-Universität', 'zu', 'Berlin', 'seit', '2', 'Semestern.']\n",
      "<class 'list'>\n"
     ]
    }
   ],
   "source": [
    "# split()\n",
    "\n",
    "print(sentence.split()) # splits string at whitespace and returns substrings as elements in a list\n",
    "print(type(sentence.split()))"
   ]
  },
  {
   "cell_type": "code",
   "execution_count": null,
   "metadata": {
    "id": "9qcYonyy8_lr",
    "outputId": "f20b5b5f-2d6b-4dbe-cee2-ddc3cb644d2c"
   },
   "outputs": [
    {
     "name": "stdout",
     "output_type": "stream",
     "text": [
      "45\n",
      "-1\n"
     ]
    }
   ],
   "source": [
    "# find()\n",
    "\n",
    "print(sentence.find('Humboldt')) # returns indexposition of substring\n",
    "print(sentence.find('Goethe')) # returns -1 if substring not found"
   ]
  },
  {
   "cell_type": "code",
   "execution_count": null,
   "metadata": {
    "id": "CICVrjND8_ls",
    "outputId": "1dadb8b6-493c-4fac-a6e5-16f4d01a4989"
   },
   "outputs": [
    {
     "name": "stdout",
     "output_type": "stream",
     "text": [
      "45\n"
     ]
    },
    {
     "ename": "ValueError",
     "evalue": "substring not found",
     "output_type": "error",
     "traceback": [
      "\u001b[1;31m---------------------------------------------------------------------------\u001b[0m",
      "\u001b[1;31mValueError\u001b[0m                                Traceback (most recent call last)",
      "\u001b[1;32m~\\AppData\\Local\\Temp/ipykernel_7692/3515387951.py\u001b[0m in \u001b[0;36m<module>\u001b[1;34m\u001b[0m\n\u001b[0;32m      2\u001b[0m \u001b[1;33m\u001b[0m\u001b[0m\n\u001b[0;32m      3\u001b[0m \u001b[0mprint\u001b[0m\u001b[1;33m(\u001b[0m\u001b[0msentence\u001b[0m\u001b[1;33m.\u001b[0m\u001b[0mindex\u001b[0m\u001b[1;33m(\u001b[0m\u001b[1;34m'Humboldt'\u001b[0m\u001b[1;33m)\u001b[0m\u001b[1;33m)\u001b[0m \u001b[1;31m# returns indexposition of substring\u001b[0m\u001b[1;33m\u001b[0m\u001b[1;33m\u001b[0m\u001b[0m\n\u001b[1;32m----> 4\u001b[1;33m \u001b[0mprint\u001b[0m\u001b[1;33m(\u001b[0m\u001b[0msentence\u001b[0m\u001b[1;33m.\u001b[0m\u001b[0mindex\u001b[0m\u001b[1;33m(\u001b[0m\u001b[1;34m'Goethe'\u001b[0m\u001b[1;33m)\u001b[0m\u001b[1;33m)\u001b[0m \u001b[1;31m# returns exception if substring not found\u001b[0m\u001b[1;33m\u001b[0m\u001b[1;33m\u001b[0m\u001b[0m\n\u001b[0m",
      "\u001b[1;31mValueError\u001b[0m: substring not found"
     ]
    }
   ],
   "source": [
    "# index()\n",
    "\n",
    "print(sentence.index('Humboldt')) # returns indexposition of substring\n",
    "print(sentence.index('Goethe')) # returns exception if substring not found"
   ]
  },
  {
   "cell_type": "code",
   "execution_count": null,
   "metadata": {
    "id": "GT7aFmCD8_lt",
    "outputId": "1ad8ef36-aaa9-404e-bf85-3d10ee5c2134"
   },
   "outputs": [
    {
     "name": "stdout",
     "output_type": "stream",
     "text": [
      "('ich studiere Geschichtswissenschaften an der ', 'Humboldt', '-Universität zu Berlin seit 2 Semestern.')\n",
      "<class 'tuple'>\n"
     ]
    }
   ],
   "source": [
    "# partition()\n",
    "\n",
    "print(sentence.partition('Humboldt')) # splits string by substrings in parts before substring, substring, after substring, returns tuple\n",
    "print(type(sentence.partition('Humboldt')))"
   ]
  },
  {
   "cell_type": "code",
   "execution_count": null,
   "metadata": {
    "id": "5xNysYrW8_lt",
    "outputId": "9c35a62b-3bc8-4d1e-9002-a1d13e25211e"
   },
   "outputs": [
    {
     "name": "stdout",
     "output_type": "stream",
     "text": [
      "False\n",
      "True\n",
      "False\n"
     ]
    }
   ],
   "source": [
    "# isalpha()\n",
    "\n",
    "print(sentence.isalpha()) # checks if all elements in string are letters\n",
    "print('Geschichtswissenschaften'.isalpha())\n",
    "print('Humboldt-Universität'.isalpha())"
   ]
  },
  {
   "cell_type": "markdown",
   "metadata": {
    "id": "vQr-R7VN8_lu"
   },
   "source": [
    "## Konkatenieren und Wiederholung"
   ]
  },
  {
   "cell_type": "code",
   "execution_count": null,
   "metadata": {
    "id": "ZNWTix-r8_lu",
    "outputId": "380cfbec-bb5d-4a4a-a2d9-0f4914778d60"
   },
   "outputs": [
    {
     "data": {
      "text/plain": [
       "'Hallo! Hallo! Hallo! '"
      ]
     },
     "execution_count": 47,
     "metadata": {},
     "output_type": "execute_result"
    }
   ],
   "source": [
    "string = 'Hallo! '\n",
    "string * 3"
   ]
  },
  {
   "cell_type": "code",
   "execution_count": null,
   "metadata": {
    "id": "Cjw7_JHy8_lu",
    "outputId": "fdb6cb4d-71fc-4ace-c997-ee1dd073b61d"
   },
   "outputs": [
    {
     "data": {
      "text/plain": [
       "'Hallo! - und Guten Abend!'"
      ]
     },
     "execution_count": 48,
     "metadata": {},
     "output_type": "execute_result"
    }
   ],
   "source": [
    "long_string = string + '- und Guten Abend!'\n",
    "long_string"
   ]
  },
  {
   "cell_type": "markdown",
   "metadata": {
    "id": "vbaEH7eq8_lu"
   },
   "source": [
    "## Indizierung und Slicing"
   ]
  },
  {
   "cell_type": "code",
   "execution_count": 2,
   "metadata": {
    "executionInfo": {
     "elapsed": 723,
     "status": "ok",
     "timestamp": 1667756204451,
     "user": {
      "displayName": "M. A.",
      "userId": "04149712364456643284"
     },
     "user_tz": -60
    },
    "id": "yjb9kVMHAViI"
   },
   "outputs": [],
   "source": [
    "sentence = \"ich studiere Geschichtswissenschaften an der Humboldt-Universität zu Berlin seit 2 Semestern.\""
   ]
  },
  {
   "cell_type": "code",
   "execution_count": 3,
   "metadata": {
    "colab": {
     "base_uri": "https://localhost:8080/",
     "height": 35
    },
    "executionInfo": {
     "elapsed": 9,
     "status": "ok",
     "timestamp": 1667756207182,
     "user": {
      "displayName": "M. A.",
      "userId": "04149712364456643284"
     },
     "user_tz": -60
    },
    "id": "XZnWTn8V8_lu",
    "outputId": "023605f1-3c7b-4395-82b7-7c4d226236aa"
   },
   "outputs": [
    {
     "data": {
      "application/vnd.google.colaboratory.intrinsic+json": {
       "type": "string"
      },
      "text/plain": [
       "'c'"
      ]
     },
     "execution_count": 3,
     "metadata": {},
     "output_type": "execute_result"
    }
   ],
   "source": [
    "sentence[1]"
   ]
  },
  {
   "cell_type": "code",
   "execution_count": null,
   "metadata": {
    "id": "O4zLpuxR8_lu",
    "outputId": "a111810c-846d-4f8b-c76d-b08bcd130b04"
   },
   "outputs": [
    {
     "data": {
      "text/plain": [
       "'a'"
      ]
     },
     "execution_count": 39,
     "metadata": {},
     "output_type": "execute_result"
    }
   ],
   "source": [
    "sentence[38]"
   ]
  },
  {
   "cell_type": "code",
   "execution_count": null,
   "metadata": {
    "id": "Grx4saeF8_lw",
    "outputId": "63658f32-85ea-470d-b875-2e0bc0b0bb64"
   },
   "outputs": [
    {
     "ename": "IndexError",
     "evalue": "string index out of range",
     "output_type": "error",
     "traceback": [
      "\u001b[1;31m---------------------------------------------------------------------------\u001b[0m",
      "\u001b[1;31mIndexError\u001b[0m                                Traceback (most recent call last)",
      "\u001b[1;32m~\\AppData\\Local\\Temp/ipykernel_10448/1158304924.py\u001b[0m in \u001b[0;36m<module>\u001b[1;34m\u001b[0m\n\u001b[1;32m----> 1\u001b[1;33m \u001b[0msentence\u001b[0m\u001b[1;33m[\u001b[0m\u001b[1;36m100\u001b[0m\u001b[1;33m]\u001b[0m\u001b[1;33m\u001b[0m\u001b[1;33m\u001b[0m\u001b[0m\n\u001b[0m",
      "\u001b[1;31mIndexError\u001b[0m: string index out of range"
     ]
    }
   ],
   "source": [
    "sentence[100]"
   ]
  },
  {
   "cell_type": "code",
   "execution_count": null,
   "metadata": {
    "id": "1wR0Dpoh8_lw",
    "outputId": "92285a18-4200-4c0a-c86f-7858fe349972"
   },
   "outputs": [
    {
     "data": {
      "text/plain": [
       "'ch studiere'"
      ]
     },
     "execution_count": 22,
     "metadata": {},
     "output_type": "execute_result"
    }
   ],
   "source": [
    "sentence[1:12]"
   ]
  },
  {
   "cell_type": "code",
   "execution_count": null,
   "metadata": {
    "id": "g1_Uzb0R8_lw",
    "outputId": "ac6801ec-6bf2-4aba-a801-74a6c8d21022"
   },
   "outputs": [
    {
     "data": {
      "text/plain": [
       "'ich studiere'"
      ]
     },
     "execution_count": 23,
     "metadata": {},
     "output_type": "execute_result"
    }
   ],
   "source": [
    "sentence[0:12]"
   ]
  },
  {
   "cell_type": "code",
   "execution_count": null,
   "metadata": {
    "id": "bntGZ7eC8_lx",
    "outputId": "81608e6f-d123-4e9b-a8ad-f4102e24c0af"
   },
   "outputs": [
    {
     "data": {
      "text/plain": [
       "'ich studiere'"
      ]
     },
     "execution_count": 24,
     "metadata": {},
     "output_type": "execute_result"
    }
   ],
   "source": [
    "sentence[:12]"
   ]
  },
  {
   "cell_type": "code",
   "execution_count": null,
   "metadata": {
    "id": "lQnOOCUq8_lx",
    "outputId": "e3c6c03f-627c-4b01-9fde-7d0c1772d460"
   },
   "outputs": [
    {
     "data": {
      "text/plain": [
       "'studiere Geschichtswissenschaften an der Humboldt-Universität zu Berlin seit 2 Semestern.'"
      ]
     },
     "execution_count": 25,
     "metadata": {},
     "output_type": "execute_result"
    }
   ],
   "source": [
    "sentence[4:]"
   ]
  },
  {
   "cell_type": "code",
   "execution_count": null,
   "metadata": {
    "id": "L8R3Qkmj8_lx",
    "outputId": "d15a1c03-bdbe-431b-b316-19f1ebf6fbf3"
   },
   "outputs": [
    {
     "data": {
      "text/plain": [
       "'studiere'"
      ]
     },
     "execution_count": 27,
     "metadata": {},
     "output_type": "execute_result"
    }
   ],
   "source": [
    "# slicing\n",
    "\n",
    "sentence[4:12]"
   ]
  },
  {
   "cell_type": "code",
   "execution_count": null,
   "metadata": {
    "id": "JArh_XeM8_lx",
    "outputId": "22e7d7af-1c08-4567-a75b-303d903e11a3"
   },
   "outputs": [
    {
     "data": {
      "text/plain": [
       "'Geschichtswissenschaften'"
      ]
     },
     "execution_count": 36,
     "metadata": {},
     "output_type": "execute_result"
    }
   ],
   "source": [
    "# slicing\n",
    "\n",
    "sentence[13:37]"
   ]
  },
  {
   "cell_type": "code",
   "execution_count": null,
   "metadata": {
    "id": "rnD3uYmJ8_ly",
    "outputId": "8bf5fd1e-e95d-4b93-eaae-825abd9b6653"
   },
   "outputs": [
    {
     "data": {
      "text/plain": [
       "'ich studiere Geschichtswissenschaften an der Humboldt-Universität zu Berlin seit 2 Semestern'"
      ]
     },
     "execution_count": 28,
     "metadata": {},
     "output_type": "execute_result"
    }
   ],
   "source": [
    "sentence[:-1]"
   ]
  },
  {
   "cell_type": "code",
   "execution_count": null,
   "metadata": {
    "id": "1hFrE06i8_ly",
    "outputId": "228d02c8-091f-4317-dbf3-884620af677a"
   },
   "outputs": [
    {
     "data": {
      "text/plain": [
       "'.'"
      ]
     },
     "execution_count": 29,
     "metadata": {},
     "output_type": "execute_result"
    }
   ],
   "source": [
    "sentence[-1:]"
   ]
  },
  {
   "cell_type": "code",
   "execution_count": null,
   "metadata": {
    "id": "S5Cwi--g8_lz",
    "outputId": "c9d86437-4437-400f-cd61-9d02c8c2caa2"
   },
   "outputs": [
    {
     "data": {
      "text/plain": [
       "' Geschichtswissenschaften an der Humboldt-Universität zu Berlin seit '"
      ]
     },
     "execution_count": 30,
     "metadata": {},
     "output_type": "execute_result"
    }
   ],
   "source": [
    "sentence[12:-12]"
   ]
  },
  {
   "cell_type": "code",
   "execution_count": null,
   "metadata": {
    "id": "KIAZrcH58_lz",
    "outputId": "7eb6a038-802b-44c9-919d-223892624226"
   },
   "outputs": [
    {
     "data": {
      "text/plain": [
       "'ich studiere Geschichtswissenschaften an der Humboldt-Universität zu Berlin seit 2 Semestern.'"
      ]
     },
     "execution_count": 31,
     "metadata": {},
     "output_type": "execute_result"
    }
   ],
   "source": [
    "sentence[:]"
   ]
  },
  {
   "cell_type": "code",
   "execution_count": null,
   "metadata": {
    "id": "YjJOPonP8_lz",
    "outputId": "106e66e8-1524-49c5-d8d5-8eeba7c64d54"
   },
   "outputs": [
    {
     "data": {
      "text/plain": [
       "'ihsuir ecihsisncatna e ubltUiesttz elnsi  eetr.'"
      ]
     },
     "execution_count": 32,
     "metadata": {},
     "output_type": "execute_result"
    }
   ],
   "source": [
    "# steps on third parameter-position\n",
    "\n",
    "sentence[::2]"
   ]
  },
  {
   "cell_type": "code",
   "execution_count": null,
   "metadata": {
    "id": "TPMHZG1x8_l0",
    "outputId": "e1fb9df5-0e32-42ed-a914-533ab5ea640b"
   },
   "outputs": [
    {
     "data": {
      "text/plain": [
       "'.nretsemeS 2 ties nilreB uz tätisrevinU-tdlobmuH red na netfahcsnessiwsthcihcseG ereiduts hci'"
      ]
     },
     "execution_count": 33,
     "metadata": {},
     "output_type": "execute_result"
    }
   ],
   "source": [
    "# sentence reversed\n",
    "\n",
    "sentence[::-1]"
   ]
  },
  {
   "cell_type": "code",
   "execution_count": null,
   "metadata": {
    "id": "mp8rcSRc8_l0",
    "outputId": "86ccf2f3-0c29-4481-cfbe-0dbf79d3ee03"
   },
   "outputs": [
    {
     "data": {
      "text/plain": [
       "'Gshctwseshfe'"
      ]
     },
     "execution_count": 40,
     "metadata": {},
     "output_type": "execute_result"
    }
   ],
   "source": [
    "sentence[13:37:2]"
   ]
  },
  {
   "cell_type": "markdown",
   "metadata": {
    "id": "TBWsV2NF8_l2"
   },
   "source": [
    "## f-Strings"
   ]
  },
  {
   "cell_type": "code",
   "execution_count": null,
   "metadata": {
    "id": "mIEY-_yG8_l4"
   },
   "outputs": [],
   "source": [
    "name = 'Martin'\n",
    "age = 29"
   ]
  },
  {
   "cell_type": "code",
   "execution_count": null,
   "metadata": {
    "id": "evap2-dk8_l5",
    "outputId": "849761b7-0f2f-4053-ea38-8777941a42d1"
   },
   "outputs": [
    {
     "data": {
      "text/plain": [
       "'Hallo, ich heiße Martin.'"
      ]
     },
     "execution_count": 73,
     "metadata": {},
     "output_type": "execute_result"
    }
   ],
   "source": [
    "my_name = f'Hallo, ich heiße {name}.'\n",
    "my_name"
   ]
  },
  {
   "cell_type": "code",
   "execution_count": null,
   "metadata": {
    "id": "n-borra78_l6",
    "outputId": "5cf13979-6a69-4fa6-b66f-f674f1ad87fe"
   },
   "outputs": [
    {
     "data": {
      "text/plain": [
       "'Hallo, ich heiße Martin und ich bin 29 Jahre alt.'"
      ]
     },
     "execution_count": 74,
     "metadata": {},
     "output_type": "execute_result"
    }
   ],
   "source": [
    "my_name_age = f'Hallo, ich heiße {name} und ich bin {str(age)} Jahre alt.'\n",
    "my_name_age"
   ]
  },
  {
   "cell_type": "code",
   "execution_count": null,
   "metadata": {
    "id": "vYhFVj0m8_l6",
    "outputId": "f05b533a-ffb6-45df-f89c-98e47cc2a741"
   },
   "outputs": [
    {
     "data": {
      "text/plain": [
       "'Hallo, ich heiße Martin, ich bin 29 und ich studiere Geschichtswissenschaften an der Humboldt-Universität zu Berlin.'"
      ]
     },
     "execution_count": 70,
     "metadata": {},
     "output_type": "execute_result"
    }
   ],
   "source": [
    "new_sentence = f'Hallo, ich heiße {name}, ich bin {str(age)} und {sentence[:-18]}.'\n",
    "new_sentence"
   ]
  },
  {
   "cell_type": "code",
   "execution_count": null,
   "metadata": {
    "id": "xI7tMBKC8_l6",
    "outputId": "af16f135-b7a5-4c21-d3dc-c7668e83b3e7"
   },
   "outputs": [
    {
     "name": "stdout",
     "output_type": "stream",
     "text": [
      "Hallo! MARTIN, wo bist du?\n"
     ]
    }
   ],
   "source": [
    "print(f'{string}{name.upper()}, wo bist du?')"
   ]
  },
  {
   "cell_type": "code",
   "execution_count": 2,
   "metadata": {
    "id": "6abZgaNV8_l7",
    "outputId": "2efa5742-074d-43b5-ebe4-4f0055826928"
   },
   "outputs": [
    {
     "name": "stdout",
     "output_type": "stream",
     "text": [
      "https://dhistory.hypotheses.org/1233\n"
     ]
    }
   ],
   "source": [
    "# example form Real-World-Coding\n",
    "\n",
    "post_number = 1233\n",
    "\n",
    "URL = 'https://dhistory.hypotheses.org/'\n",
    "\n",
    "link = URL + str(post_number)\n",
    "\n",
    "print(link)"
   ]
  },
  {
   "cell_type": "code",
   "execution_count": 3,
   "metadata": {
    "id": "BIg_X0QG8_l8",
    "outputId": "e9a1f85d-4aad-4adf-a8d1-79dad6a514a4"
   },
   "outputs": [
    {
     "data": {
      "text/plain": [
       "'https://dhistory.hypotheses_.org/1233'"
      ]
     },
     "execution_count": 3,
     "metadata": {},
     "output_type": "execute_result"
    }
   ],
   "source": [
    "link_example = f'https://dhistory.hypotheses_.org/{post_number}'\n",
    "link_example"
   ]
  },
  {
   "cell_type": "code",
   "execution_count": null,
   "metadata": {
    "id": "7yUKpAyP8_l8"
   },
   "outputs": [],
   "source": []
  }
 ],
 "metadata": {
  "colab": {
   "collapsed_sections": [],
   "provenance": []
  },
  "kernelspec": {
   "display_name": "Python 3 (ipykernel)",
   "language": "python",
   "name": "python3"
  },
  "language_info": {
   "codemirror_mode": {
    "name": "ipython",
    "version": 3
   },
   "file_extension": ".py",
   "mimetype": "text/x-python",
   "name": "python",
   "nbconvert_exporter": "python",
   "pygments_lexer": "ipython3",
   "version": "3.8.13"
  },
  "vscode": {
   "interpreter": {
    "hash": "0ff47b9ca6405c2db25e0c8590a4a87a312ef3bde027bbebcfe2b7cbb2bae6fc"
   }
  }
 },
 "nbformat": 4,
 "nbformat_minor": 4
}
